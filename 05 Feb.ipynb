{
 "cells": [
  {
   "cell_type": "code",
   "execution_count": 1,
   "id": "3246727e-5872-423b-b32a-b1fb13157f66",
   "metadata": {},
   "outputs": [
    {
     "data": {
      "text/plain": [
       "' Object is a basic unit of Object-Oriented Programming and represents the real-life entities. An Object is an instance of a class. \\nAn object has an identity, state, and behavior. Each object contains data and code to manipulate the data.\\nExample: “Cat” is a real-life entity, which has some characteristics like color, Breed, Sleep, and Eats.'"
      ]
     },
     "execution_count": 1,
     "metadata": {},
     "output_type": "execute_result"
    }
   ],
   "source": [
    "\"\"\"Q1. Explain Class and Object with respect to Object-Oriented Programming. Give a suitable example.\"\"\"\n",
    "\n",
    "\"\"\"Ans: A Class is auser defined datatype which has different functions and data members in it and \n",
    "it can be accesed by creating a instance of that class, a class is like a blueprint of an object. \n",
    "Example: when we make a class of car fundamentally almost every thing about that will have same property like all car have doors, \n",
    "all car have wheels etc. Car is the class and wheels, speed limits, mileage are their properties.\"\"\"\n",
    "\n",
    "\"\"\" Object is a basic unit of Object-Oriented Programming and represents the real-life entities. An Object is an instance of a class. \n",
    "An object has an identity, state, and behavior. Each object contains data and code to manipulate the data.\n",
    "Example: “Cat” is a real-life entity, which has some characteristics like color, Breed, Sleep, and Eats.\"\"\""
   ]
  },
  {
   "cell_type": "code",
   "execution_count": 2,
   "id": "43c568d9-746c-48f6-b482-3d146b212e15",
   "metadata": {},
   "outputs": [
    {
     "data": {
      "text/plain": [
       "'Ans: The Four pillars of OOPs are:\\n        1. Data Abstraction\\n        2. Encapsulation\\n        3. Inheritance\\n        4. Polymorphism'"
      ]
     },
     "execution_count": 2,
     "metadata": {},
     "output_type": "execute_result"
    }
   ],
   "source": [
    "\"\"\"Q2. Name the four pillars of OOPs.\"\"\"\n",
    "\n",
    "\"\"\"Ans: The Four pillars of OOPs are:\n",
    "        1. Data Abstraction\n",
    "        2. Encapsulation\n",
    "        3. Inheritance\n",
    "        4. Polymorphism\"\"\""
   ]
  },
  {
   "cell_type": "code",
   "execution_count": 6,
   "id": "f8e6d161-e837-4983-85b1-9568df434fa8",
   "metadata": {},
   "outputs": [
    {
     "name": "stdout",
     "output_type": "stream",
     "text": [
      "Hello Karan\n"
     ]
    }
   ],
   "source": [
    "\"\"\"Q3. Explain why the __init__() function is used. Give a suitable example.\"\"\"\n",
    "\n",
    "\"\"\"Ans: __init__() is a type of constructor and \n",
    "        it is used to assign value to the data members of the class when an object of the class is created\"\"\"\n",
    "\n",
    "# Example :\n",
    "\n",
    "class Hello:\n",
    "    \n",
    "    def __init__(self, name):\n",
    "        self.name = name\n",
    "        \n",
    "    def say_hello(self):\n",
    "        print(f\"Hello {self.name}\")\n",
    "    \n",
    "    \n",
    "h = Hello(\"Karan\")\n",
    "h.say_hello()"
   ]
  },
  {
   "cell_type": "code",
   "execution_count": 7,
   "id": "039f5d9d-1f78-4252-9d21-4e7c9410465d",
   "metadata": {},
   "outputs": [
    {
     "data": {
      "text/plain": [
       "'Ans: self represent the instance of the class, with the help of self we can access the methods and attributes of the class, \\nself is like a way to access the methods and attribute which specified by the creator of python.'"
      ]
     },
     "execution_count": 7,
     "metadata": {},
     "output_type": "execute_result"
    }
   ],
   "source": [
    "\"\"\"Q4. Why self is used in OOPs?\"\"\"\n",
    "\n",
    "\"\"\"Ans: self represent the instance of the class, with the help of self we can access the methods and attributes of the class, \n",
    "self is like a way to access the methods and attribute which specified by the creator of python.\"\"\""
   ]
  },
  {
   "cell_type": "code",
   "execution_count": 8,
   "id": "188049c2-292a-4c82-8400-cae776730f32",
   "metadata": {},
   "outputs": [
    {
     "name": "stdout",
     "output_type": "stream",
     "text": [
      "Its from Parent class\n",
      "Its from Child Class\n",
      "Its from parent1\n",
      "Its from parent2\n",
      "Its from child\n",
      "Its from Grand Parent\n",
      "Its from Parent\n",
      "Its from child\n"
     ]
    }
   ],
   "source": [
    "\"\"\"Q5. What is inheritance? Give an example for each type of inheritance.\"\"\"\n",
    "\n",
    "\"\"\"Ans: Inheritance is a method in class which help to create hierarchy of classes which share a set of methods \n",
    "        and properties by calling one class to another. Like when a child receive similar attributes(hair, eyes, etc.) from their parents.\n",
    "        There are different types of Inheritance:\n",
    "        \n",
    "1. Single Inheritance : It enables a derived class to inherit properties from a single parent class.\n",
    "It is similar to a relationship between a parent and a child.\n",
    "example:\"\"\"\n",
    "\n",
    "class parent:\n",
    "    def f1(self):\n",
    "        print(\"Its from Parent class\")\n",
    "class child(parent):\n",
    "    def f2(self):\n",
    "        print(\"Its from Child Class\")\n",
    "        \n",
    "c = child()\n",
    "c.f1()\n",
    "c.f2()\n",
    "\n",
    "    \n",
    "\"\"\"2. Multiple Inheritance: When a class can be derived from more than one base class. \n",
    "It is similar to relatiionship between a child and its two parents\n",
    "example: \"\"\"\n",
    "\n",
    "class Parent1:\n",
    "    def f1(self):\n",
    "        print(\"Its from parent1\")\n",
    "        \n",
    "class Parent2:\n",
    "    def f2(self):\n",
    "        print(\"Its from parent2\")\n",
    "        \n",
    "class child1(Parent1, Parent2):\n",
    "    def f3(self):\n",
    "        print(\"Its from child\")\n",
    "        \n",
    "c = child1()\n",
    "c.f1()\n",
    "c.f2()\n",
    "c.f3()\n",
    "\n",
    "\n",
    "\"\"\"3.Multilevel inheritance: Its features of the base class and the derived class are further inherited into the new derived class.\n",
    "This is similar to a relationship representing a child and a grandfather. \n",
    "Example: \"\"\"\n",
    "\n",
    "class GrandParent:\n",
    "    def f1(self):\n",
    "        print(\"Its from Grand Parent\")\n",
    "        \n",
    "class Parent(GrandParent):\n",
    "    def f2(self):\n",
    "        print(\"Its from Parent\")\n",
    "        \n",
    "class child2(Parent):\n",
    "    def f3(self):\n",
    "        print(\"Its from child\")\n",
    "        \n",
    "c2 = child2()\n",
    "c2.f1()\n",
    "c2.f2()\n",
    "c2.f3()"
   ]
  },
  {
   "cell_type": "code",
   "execution_count": null,
   "id": "60c67c07-614f-407c-a2f4-f2f9b456c122",
   "metadata": {},
   "outputs": [],
   "source": []
  }
 ],
 "metadata": {
  "kernelspec": {
   "display_name": "Python 3 (ipykernel)",
   "language": "python",
   "name": "python3"
  },
  "language_info": {
   "codemirror_mode": {
    "name": "ipython",
    "version": 3
   },
   "file_extension": ".py",
   "mimetype": "text/x-python",
   "name": "python",
   "nbconvert_exporter": "python",
   "pygments_lexer": "ipython3",
   "version": "3.10.8"
  }
 },
 "nbformat": 4,
 "nbformat_minor": 5
}
